{
  "nbformat": 4,
  "nbformat_minor": 0,
  "metadata": {
    "colab": {
      "provenance": [],
      "authorship_tag": "ABX9TyOy4rJ2B8pcso/bjlnvrMLc",
      "include_colab_link": true
    },
    "kernelspec": {
      "name": "python3",
      "display_name": "Python 3"
    },
    "language_info": {
      "name": "python"
    }
  },
  "cells": [
    {
      "cell_type": "markdown",
      "metadata": {
        "id": "view-in-github",
        "colab_type": "text"
      },
      "source": [
        "<a href=\"https://colab.research.google.com/github/Mastan81/false-method/blob/main/Untitled1.ipynb\" target=\"_parent\"><img src=\"https://colab.research.google.com/assets/colab-badge.svg\" alt=\"Open In Colab\"/></a>"
      ]
    },
    {
      "cell_type": "code",
      "execution_count": 1,
      "metadata": {
        "colab": {
          "base_uri": "https://localhost:8080/"
        },
        "id": "6n_oHkIw3JAM",
        "outputId": "7792d95d-742e-4776-c5ce-632a70c41c70"
      },
      "outputs": [
        {
          "output_type": "stream",
          "name": "stdout",
          "text": [
            "the error is 0.03125 \n"
          ]
        }
      ],
      "source": [
        "def bisection(func, a , b, error_accept):\n",
        "  def f(x):\n",
        "    f=eval(func)\n",
        "    return f \n",
        "\n",
        "  error  = abs (b-a)\n",
        "\n",
        "  while error > error_accept:\n",
        "    c = (b+a) / 2\n",
        "    if f(a) * f(b) >= 0:\n",
        "       print(\"no root\")\n",
        "       quit()\n",
        "\n",
        "    elif f(c) * f(a) < 0:\n",
        "      b = c\n",
        "      error = abs(b-a)\n",
        "\n",
        "    elif f(c) * f(b) < 0:\n",
        "      a = c\n",
        "      error = abs(b-a)\n",
        "\n",
        "    else:\n",
        "      print(\"something wrong\")\n",
        "      quit()\n",
        "\n",
        "\n",
        "  print(f\"the error is {error} \")\n",
        "\n",
        "bisection(\"(4*x**2)- 6\" , 1, 2, 0.05)"
      ]
    }
  ]
}